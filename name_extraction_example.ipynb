{
 "cells": [
  {
   "cell_type": "markdown",
   "id": "5c130d58",
   "metadata": {},
   "source": [
    "## Extract names\n",
    "Zypher Quill, Orin Veyda, Jaxith Crowe, Nira Solane, Thalen Drift\n",
    "Kaela Morwyn, Riven Tark, Elira Voss, Corvin Ashvale"
   ]
  },
  {
   "cell_type": "code",
   "execution_count": 1,
   "id": "a8ed9e8e",
   "metadata": {},
   "outputs": [
    {
     "data": {
      "text/plain": [
       "True"
      ]
     },
     "execution_count": 1,
     "metadata": {},
     "output_type": "execute_result"
    }
   ],
   "source": [
    "import os\n",
    "import pandas as pd\n",
    "import inc.functions as fn\n",
    "from inc.credential_manager import inject_decrypted_env, get_passphrase  # << New import\n",
    "import h3\n",
    "\n",
    "# Obtain the passphrase from hidden file or user input\n",
    "passphrase = get_passphrase()\n",
    "\n",
    "# Inject decrypted environment variables\n",
    "inject_decrypted_env(environment=\"prod\", passphrase=passphrase)"
   ]
  },
  {
   "cell_type": "code",
   "execution_count": 2,
   "id": "447db52e",
   "metadata": {},
   "outputs": [],
   "source": [
    "sample_CFS_text = \"\"\"Officers were dispatched to the downtown Riverwalk Festival regarding a disturbance involving multiple parties. \n",
    "Upon arrival, security pointed out that Zypher Quill and Orin Veyda were actively fighting with Jaxith Crowe and Nira Solane near the \n",
    "main stage area. Witnesses advised the altercation began after a verbal exchange escalated into physical punches and shoving. Festival \n",
    "staff attempted to intervene but were pushed aside. Zypher Quill was seen swinging a glass bottle toward Jaxith Crowe, while \n",
    "Orin Veyda attempted to tackle Nira Solane to the ground. Both sets of individuals continued to strike each other until officers \n",
    "separated them. Additional subjects were located in the immediate area. Thalen Drift and Kaela Morwyn were standing with Zypher Quill \n",
    "and Orin Veyda, stating they were “backing up their friends.” Across from them, Riven Tark and Elira Voss identified themselves as \n",
    "associates of Jaxith Crowe and Nira Solane, and they were yelling threats during the altercation but did not engage physically. A final \n",
    "subject, Corvin Ashvale, was identified as attempting to break up the fight but was pulled into the crowd, sustaining a minor laceration. \n",
    "All ten named individuals were documented, with the primary aggressors (Zypher Quill, Orin Veyda, Jaxith Crowe, Nira Solane) being taken \n",
    "into custody for disorderly conduct and assault. Remaining parties were released pending further investigation.\"\"\""
   ]
  },
  {
   "cell_type": "code",
   "execution_count": 3,
   "id": "ddc8793e",
   "metadata": {},
   "outputs": [
    {
     "data": {
      "text/plain": [
       "['Zypher Quill',\n",
       " 'Orin Veyda',\n",
       " 'Jaxith Crowe',\n",
       " 'Nira Solane',\n",
       " 'Thalen Drift',\n",
       " 'Kaela Morwyn',\n",
       " 'Riven Tark',\n",
       " 'Elira Voss',\n",
       " 'Corvin Ashvale']"
      ]
     },
     "execution_count": 3,
     "metadata": {},
     "output_type": "execute_result"
    }
   ],
   "source": [
    "fn.extract_names(sample_CFS_text)"
   ]
  },
  {
   "cell_type": "code",
   "execution_count": null,
   "id": "3f545ce9",
   "metadata": {},
   "outputs": [],
   "source": []
  }
 ],
 "metadata": {
  "kernelspec": {
   "display_name": "gideon",
   "language": "python",
   "name": "python3"
  },
  "language_info": {
   "codemirror_mode": {
    "name": "ipython",
    "version": 3
   },
   "file_extension": ".py",
   "mimetype": "text/x-python",
   "name": "python",
   "nbconvert_exporter": "python",
   "pygments_lexer": "ipython3",
   "version": "3.10.16"
  }
 },
 "nbformat": 4,
 "nbformat_minor": 5
}
